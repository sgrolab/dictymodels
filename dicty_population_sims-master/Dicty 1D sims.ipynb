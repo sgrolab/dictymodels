{
 "cells": [
  {
   "cell_type": "code",
   "execution_count": 1,
   "metadata": {},
   "outputs": [],
   "source": [
    "#import class used for simulations\n",
    "import numpy as np\n",
    "from dicty_population_sims.dictyPop import dicty_pop_opto_active_1D\n",
    "import matplotlib.pyplot as plt"
   ]
  },
  {
   "cell_type": "code",
   "execution_count": 2,
   "metadata": {},
   "outputs": [],
   "source": [
    "#the method ive been using to extract frequencies/wavenumbers\n",
    "def get_out_k(ipt):\n",
    "    ffts = np.fft.fft(ipt-np.average(ipt,axis=0),axis=0)\n",
    "    idx = np.argmax(np.abs(np.average(ffts,1)))\n",
    "    return 2*np.pi*idx/ffts.shape[0]"
   ]
  },
  {
   "cell_type": "code",
   "execution_count": 3,
   "metadata": {},
   "outputs": [],
   "source": [
    "#parameters for the grid and the individual cell dynamics\n",
    "#note: need agent_dim*box_size_x <= num_agents right now (no stacking yet)\n",
    "grid_params_1D = {\n",
    "        'dx' : 0.1,\n",
    "        'D_sig' : 1,\n",
    "        'box_size_x' : 250,\n",
    "        'box_size_y' : .5,\n",
    "        'agent_dim' : .5,\n",
    "        'num_agents' : 500,\n",
    "        }\n",
    "\n",
    "cell_params={\n",
    "        'c0' : 1,\n",
    "        'a' : .058,\n",
    "        'gamma' : 0.5,\n",
    "        'Kd' : 10**(-5),\n",
    "        'sigma' : .15,\n",
    "        'epsilon' : 0.2,\n",
    "        'cStim' : 100,\n",
    "        'J' : 10,\n",
    "        'rho' :  1,\n",
    "        'D' : 1000,\n",
    "        'a0' : 1,\n",
    "        'af' : 0\n",
    "       }"
   ]
  },
  {
   "cell_type": "code",
   "execution_count": 4,
   "metadata": {},
   "outputs": [],
   "source": [
    "#set the 0th cell in the array to have its dynamics determined by the external \"optogenetic\" signal \n",
    "mask = np.ones(grid_params_1D['num_agents'],dtype = int)\n",
    "mask[0] = 0"
   ]
  },
  {
   "cell_type": "code",
   "execution_count": 5,
   "metadata": {},
   "outputs": [],
   "source": [
    "#set the frequency of the driving optogenetic signal\n",
    "w = 2*np.pi/30"
   ]
  },
  {
   "cell_type": "code",
   "execution_count": null,
   "metadata": {},
   "outputs": [],
   "source": [
    "#initialize the simulated population\n",
    "pop = dicty_pop_opto_active_1D(2000,1,g_params = grid_params_1D,c_params = cell_params,progress_report = False)\n",
    "#set the \"optogenetic\" mask for the population\n",
    "pop.setMask(mask)\n",
    "#define the input signal\n",
    "t = np.linspace(0,pop.T,pop.Tsteps)\n",
    "A_in = 2*np.sin(w*t)\n",
    "R_in = np.zeros(pop.Tsteps)\n",
    "#run the population\n",
    "#Warning: this takes a while\n",
    "pop.run(A_in,R_in)"
   ]
  },
  {
   "cell_type": "code",
   "execution_count": null,
   "metadata": {},
   "outputs": [],
   "source": [
    "#extract the activator trace\n",
    "a_out = pop.A_saved\n",
    "#take remove the cells close to the input and the initial half of the timetrace\n",
    "a_out_clean = a_out[-250:,-1000:]"
   ]
  },
  {
   "cell_type": "code",
   "execution_count": null,
   "metadata": {},
   "outputs": [],
   "source": [
    "#get the average frequency\n",
    "k = get_out_k(a_out_clean)\n",
    "print('calculated wavelength :',2*np.pi/k)"
   ]
  },
  {
   "cell_type": "code",
   "execution_count": null,
   "metadata": {},
   "outputs": [],
   "source": [
    "#plot of activity of all cells at a given time:\n",
    "plt.plot(a_out[:,1000])\n",
    "#note: at this input frequency we get this weird double-beating pattern\n",
    "#im still not sure what the deal with this is yet, i need to do more testing"
   ]
  },
  {
   "cell_type": "code",
   "execution_count": null,
   "metadata": {},
   "outputs": [],
   "source": [
    "#plot of activity of a single cell as a function of time (limited time window):\n",
    "plt.plot(a_out[250,250:750])"
   ]
  },
  {
   "cell_type": "code",
   "execution_count": null,
   "metadata": {},
   "outputs": [],
   "source": [
    "#kymograph of the activator dynamics\n",
    "fig, ax = plt.subplots(figsize=(15, 50))\n",
    "ax.imshow(a_out, interpolation='nearest')"
   ]
  },
  {
   "cell_type": "code",
   "execution_count": null,
   "metadata": {},
   "outputs": [],
   "source": [
    "#power spectrum\n",
    "a_out_clean_k = np.fft.fft(a_out_clean-np.average(a_out_clean,axis=0),axis=0)\n",
    "plt.plot(np.abs(np.average(a_out_clean_k,1)))"
   ]
  }
 ],
 "metadata": {
  "@webio": {
   "lastCommId": null,
   "lastKernelId": null
  },
  "kernelspec": {
   "display_name": "Python 3",
   "language": "python",
   "name": "python3"
  },
  "language_info": {
   "codemirror_mode": {
    "name": "ipython",
    "version": 3
   },
   "file_extension": ".py",
   "mimetype": "text/x-python",
   "name": "python",
   "nbconvert_exporter": "python",
   "pygments_lexer": "ipython3",
   "version": "3.7.3"
  }
 },
 "nbformat": 4,
 "nbformat_minor": 2
}
